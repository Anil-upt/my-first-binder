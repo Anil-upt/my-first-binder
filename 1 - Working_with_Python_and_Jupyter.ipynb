{
 "cells": [
  {
   "cell_type": "markdown",
   "metadata": {},
   "source": [
    "# Investigating evolutionary relationships through sequence and cluster analysis\n",
    "\n",
    "## Wally Novak, Wabash College\n",
    "\n",
    "***\n",
    "\n",
    "Faculty and students often deal with large datasets in biochemistry. For example, we might go online and run a BLAST search to identify a protein sequence. The default BLAST parameters are designed to limit the amount of data we receive to 100 sequences. In many cases this is more than sufficient, and we can stay out of \"Big Data\" weeds so to speak. \n",
    "\n",
    "However, protein (and nucleotide) sequences are rich with information, and there is much knowledge to be gained about evolutionary relationships between proteins using Big Data. Processing large datasets often requires specialized software packages. \n",
    "\n",
    "This workshop will:\n",
    "\n",
    "* Give a brief overview of using Jupyter Notebooks\n",
    "* Introduce you to several software packages and file formats we will use for analysis\n",
    "* Walk you through uploading and processing fasta files\n",
    "* Show you how to reduce large sequence datasets into diverse, yet manageable sets\n",
    "* Demonstrate how visualization of sequence similarity networks can provide important and novel information about proteins\n",
    "* Leave you with a computational lab experience that can be tailored to your interests!\n",
    "\n",
    "***\n",
    "\n"
   ]
  },
  {
   "cell_type": "markdown",
   "metadata": {},
   "source": [
    "## A (very) brief introduction to Jupyter Notebooks, Jupyter Lab, and Python\n",
    "\n",
    "\n",
    "Jupyter notebooks provide an interactive, web-based programming environment. There are many benefits of using a Jupyter notebook in your classroom or lab, including access to a variety of Big Data programming tools (code sections) and the ability to include narrative sections (such as this one, also called a markdown section). This notebook is based on the Python 3 programming language. Throughout this workshop you will encounter code that is represented like this:\n",
    "\n",
    "`print(\"This is some python code.\")`\n",
    "\n",
    "I try to explain all the code in these markdown sections. The print statement simply prints whatever is in between the quotes. The box below this one is a code section. You can simply copy and paste the code into the box below. Its the line that starts with In [ ]:\n",
    "\n",
    "With that box highlighted, you can run the code in two ways. The first way is to click the Run button near the top of the page. The second way is to use shift+return.\n",
    "\n",
    "If you haven't already, go ahead and copy and paste the print code into the box and run it. You should see some output appear below the box."
   ]
  },
  {
   "cell_type": "code",
   "execution_count": null,
   "metadata": {},
   "outputs": [],
   "source": []
  },
  {
   "cell_type": "markdown",
   "metadata": {},
   "source": [
    "Admittedly, this is some boring code, so why not spice it up? Edit the code box above to print your name at the end of the statement. For example, I might want it to say \"This is some python code, Wally.\" You can change anything in between the quotes. When you rerun the code (either with the Run button or the shift+return) you will see the new output below that box and the number in brackets on that line increments by 1.\n",
    "\n",
    "If this is your first time writing and running some Python code, congratulations! \n",
    "\n",
    "Let's try copying and pasting some slightly more complicated code into the code box below.\n",
    "\n",
    "`for i in range(3):\n",
    "    print(\"This is freaking awesome!\")`\n",
    "\n",
    "This code creates a loop and runs the print statement over the range given.\n",
    "\n",
    "Go ahead and run it."
   ]
  },
  {
   "cell_type": "code",
   "execution_count": null,
   "metadata": {},
   "outputs": [],
   "source": []
  },
  {
   "cell_type": "markdown",
   "metadata": {},
   "source": [
    "Before we move on, change the range in the code above to 10 and run it again. Even more awesomeness!\n",
    "\n",
    "***\n",
    "\n",
    "These simple exercises serve two purposes (I hope).\n",
    "* You can type in working code with minimal guidance!\n",
    "* You can edit Jupyter notebooks to tailor your exercises to what you want to study!"
   ]
  },
  {
   "cell_type": "markdown",
   "metadata": {},
   "source": [
    "***\n",
    "\n",
    "In this exercise we will use protein sequence files that we obtain from uniprot. We also want to utilize NCBI BLAST software to use expectation values for visualization, the CD-HIT software to reduce our data set size in a rational way, and cytoscape for viewing networks!\n",
    "\n",
    "## This is overwhelming and impossible to get everyone on the same page.\n",
    "\n",
    "One person is using a mac, another a Windows PC. It is also difficult to find where files are. It would be nearly impossible to make any headway on this with a group this size.\n",
    "\n",
    "## However...\n",
    "We will perform the rest of the workshop using a Jupyter lab and a <i> remote </i> environment that I have set up. In this environment all the needed software is already installed, and we can easily upload files to work with!\n",
    "\n",
    "Go ahead and click the launch binder button below (this may take a few minutes to start!)\n",
    "\n",
    "[![Binder](https://mybinder.org/badge_logo.svg)](https://mybinder.org/v2/gh/wallynovak/my-first-binder/HEAD?urlpath=lab)\n"
   ]
  },
  {
   "cell_type": "code",
   "execution_count": null,
   "metadata": {},
   "outputs": [],
   "source": []
  },
  {
   "cell_type": "code",
   "execution_count": null,
   "metadata": {},
   "outputs": [],
   "source": []
  }
 ],
 "metadata": {
  "kernelspec": {
   "display_name": "Python 3",
   "language": "python",
   "name": "python3"
  },
  "language_info": {
   "codemirror_mode": {
    "name": "ipython",
    "version": 3
   },
   "file_extension": ".py",
   "mimetype": "text/x-python",
   "name": "python",
   "nbconvert_exporter": "python",
   "pygments_lexer": "ipython3",
   "version": "3.8.5"
  }
 },
 "nbformat": 4,
 "nbformat_minor": 4
}
