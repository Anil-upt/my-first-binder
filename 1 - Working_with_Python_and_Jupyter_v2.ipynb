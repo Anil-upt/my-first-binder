{
 "cells": [
  {
   "cell_type": "markdown",
   "metadata": {},
   "source": [
    "# Investigating evolutionary relationships through sequence and cluster analysis\n",
    "\n",
    "## Wally Novak, Wabash College\n",
    "\n",
    "***\n",
    "\n",
    "Scientists often deal with large datasets in biochemistry. For example, we might go online and run a BLAST search to identify a protein sequence. The default BLAST parameters are designed to limit the amount of data we receive to 100 sequences. In many cases this is more than sufficient, and we can stay out of \"Big Data\" weeds so to speak. \n",
    "\n",
    "However, protein (and nucleotide) sequences are rich with information, and there is much knowledge to be gained about evolutionary relationships between proteins using Big Data. Processing large datasets often requires specialized software packages. \n",
    "\n",
    "The overarching goals of this exercise are to:\n",
    "\n",
    "    1. Learn to navigate Jupyter Lab and Notebooks in the Binder.org environment\n",
    "    2. Learn about FASTA sequence files\n",
    "    3. Be able to handle, filter, and clean large sequence datasets\n",
    "    4. Learn about and use the basic local alignment sequence tool (BLAST)\n",
    "    5. Be able to create interactive sequence similarity networks from BLAST results to investigate sequence relationships\n",
    "    6. Be able to generate new knowledge using sequence similarity networks \n",
    "\n",
    "\n",
    "This Notebook will give a brief overview of running and editing Jupyter Notebooks and the Python programming language.\n",
    "\n",
    "***\n",
    "\n"
   ]
  },
  {
   "cell_type": "markdown",
   "metadata": {},
   "source": [
    "## A (very) brief introduction to Jupyter Notebooks, Jupyter Lab, and Python\n",
    "\n",
    "\n",
    "Jupyter notebooks provide an interactive, web-based programming environment. There are many benefits of using a Jupyter notebook in your classroom or lab, including access to a variety of Big Data programming tools (code sections) and the ability to include narrative sections (such as this one, also called a markdown section). \n",
    "\n",
    "You can edit markdown sections. Just double click in the markdown area and type what you like. Go ahead and double click in this box.\n",
    "\n",
    "To return to the formatted view, you need to \"run\" the markdown section. With the box highlighted (the big blue bar at left), you can run the code in two ways. The first way is to click the Run (Play) button near the top of the page. The second way is to use shift+return.\n",
    "\n",
    "Here is a link to some cool formatting you can do in markdown sections https://towardsdatascience.com/jupyter-and-markdown-cbc1f0ea6406, but you can also do an internet search for \"jupyter markdown.\" \n",
    "***"
   ]
  },
  {
   "cell_type": "markdown",
   "metadata": {},
   "source": [
    "This notebook is based on the Python 3 programming language. Throughout this workshop you will encounter code that is represented like this:\n",
    "\n",
    "~~~python\n",
    "print(\"This is some python code.\")\n",
    "~~~\n",
    "I will use these markdown sections to explain the basics of the code, provide general information, or even pose some questions. The above print statement simply prints whatever is in between the quotes. The box below this one is a code section. \n",
    "\n",
    "<font color=blue><b>STEP 1:</b></font> Copy and paste the above code into the code box below. The code box starts with [ ]:\n",
    "\n",
    "<font color=blue><b>STEP 2:</b></font> Run the code using the Run button or shift+return. You should see some output appear below the box.\n",
    "\n",
    "While the code is running you will see an asterisk appear in the brackets, e.g.: [\\*]. When it is completed, a number appears, e.g. [1]."
   ]
  },
  {
   "cell_type": "code",
   "execution_count": null,
   "metadata": {},
   "outputs": [],
   "source": [
    "print(\"This is some python code.\")"
   ]
  },
  {
   "cell_type": "markdown",
   "metadata": {},
   "source": [
    "Admittedly, this is some boring code, so why not spice it up? \n",
    "\n",
    "<font color=blue><b>STEP 3:</b></font> Edit the code box above to print your name at the end of the statement. For example, I might want it to say \"This is some python code, Wally.\" You can change anything in between the quotes. When you rerun the code (either with the Run button or the shift+return) you will see the new output below that box and the number in brackets on that line increments by 1.\n",
    "\n",
    "If this is your first time writing and running some Python code, congratulations! \n",
    "\n",
    "<font color=blue><b>STEP 4:</b></font> Let's try copying and pasting some slightly more complicated code into the code box below.\n",
    "\n",
    "~~~python\n",
    "for i in range(3):\n",
    "    print(\"Python in Jupyter is awesome!\")\n",
    "~~~\n",
    "\n",
    "This code creates a loop and runs the print statement over the range given.\n",
    "\n",
    "<font color=blue><b>STEP 5:</b></font> Go ahead and run it."
   ]
  },
  {
   "cell_type": "code",
   "execution_count": null,
   "metadata": {},
   "outputs": [],
   "source": [
    "for i in range(10):\n",
    "    print(\"Python in Jupyter is awesome!\")"
   ]
  },
  {
   "cell_type": "markdown",
   "metadata": {},
   "source": [
    "<font color=blue><b>STEP 6:</b></font> Before we move on, change the range in the code above to 10 and run it again. Even more awesomeness!\n",
    "***\n",
    "\n",
    "These simple exercises serve two purposes (I hope).\n",
    "* You can run working code with minimal guidance!\n",
    "* You can edit Jupyter notebooks to tailor your exercises to your own needs!\n",
    "\n",
    "***"
   ]
  },
  {
   "cell_type": "markdown",
   "metadata": {},
   "source": [
    "# Why we use Binder\n",
    "\n",
    "In this exercise we will use protein sequence files that we obtain from uniprot. We also want to utilize NCBI BLAST software to use expectation values for visualization, the CD-HIT software to reduce our data set size in a rational way, and cytoscape for viewing networks!\n",
    "\n",
    "While it is possible to install most of this software on any computer, it can be very difficult to get everything working. Also, many of us want to do or teach the science, so figuring out how to install all the software is not a good use of our time.  \n",
    "\n",
    "We are running this Jupter notebook in Binder, a <i> remote </i> environment that I have set up. In this environment all the needed software is already installed, and we can easily upload files to work with!\n",
    "***\n",
    "\n",
    "## Some important ideas for using Jupyter Notebooks in Binder\n",
    "\n",
    "    1. Please ensure the code in a cell has finished running before moving on to the next one!\n",
    "    2. If you accidentally delete or mangle some code, use the Edit -> Undo function!\n",
    "    3. If you need to stop some code from running in a cell use the Stop button (next to the Run button).\n",
    "    4. If you don't interact with Binder for too long, you may lose the Kernel and need to restart it. \n",
    "    5. If you are away for a long time, then you may need to relaunch your Binder - which means you might need to regenerate any data that you did not download!\n",
    "***\n"
   ]
  },
  {
   "cell_type": "markdown",
   "metadata": {},
   "source": [
    "# On to the Science - Importing some sequence data!\n",
    "\n",
    "In this exercise we will retrieve and upload a set of diphthteria toxin repressor (DTXR)-like protein sequences from Uniprot. \n",
    "\n",
    "<font color=blue><b>STEP 7:</b></font> Click this link to head to https://uniprot.org\n",
    "\n",
    "***\n",
    "At the uniprot site...\n",
    "\n",
    "<font color=blue><b>STEP 8:</b></font> Type dtxr in the search bar and hit return.\n",
    "\n",
    "<font color=blue><b>STEP 9:</b></font> Explore the results and consider these questions:\n",
    "\n",
    "    1. How many results did you get from this search?\n",
    "    2. How many results are reviewed?\n",
    "    3. How many sequences are unreviewed?\n",
    "\n",
    "Hopefully you found something like 31,263 total sequences. I would certainly call this <b>big data</b> - way too many sets to look at manually!\n",
    "\n",
    "<font color=blue><b>STEP 10:</b></font> Near the top of the sequences you will see the download button. Download all the sequences in FASTA (canonical) format and ensure <b>uncompressed</b> is checked. <b>Note where this file is being saved on your computer, we will need to upload it to the Binder environment next!</b><br> <img src=\"images/download.png\" width=200>\n",
    "\n",
    "<font color=blue><b>STEP 11:</b></font> Next, we will upload this file to Binder. In the files panel at the left, <b>double click the files folder to open it</b>. You should see two existing files in there: dtxr_pdbs.fasta and dtxr.tfa. Now you may either drag the uniprot-dtxr.fasta file from your computer folder into the Binder folder or click the Upload files button that looks like this:<img src=\"images/upload.png\" width=50>\n",
    "***"
   ]
  },
  {
   "cell_type": "markdown",
   "metadata": {},
   "source": [
    "Let's take a look at the top of the file using a unix shell command called head. The exclamation mark at the beginning indicates to the Jupyter Notebook that it is a shell command.\n",
    "\n",
    "<font color=blue><b>STEP 12:</b></font> Run the line below to view the head (top few lines) of the file."
   ]
  },
  {
   "cell_type": "code",
   "execution_count": null,
   "metadata": {},
   "outputs": [],
   "source": [
    "!head files/uniprot-dtxr.fasta"
   ]
  },
  {
   "cell_type": "markdown",
   "metadata": {},
   "source": [
    "You should see that each sequence record in the fasta formatted file starts with a '>' and that the first line contains identifying information. The following lines are the protein sequence in single letter amino acid code. \n",
    "\n",
    "<font color=blue><b>STEP 13:</b></font> As the fasta file is simply a text file, you can double click it in the files panel and it will display the contents in a new window.\n",
    "\n",
    "<font color=blue><b>STEP 14:</b></font> Answer these questions:\n",
    "\n",
    "    1. What is the function/name of the first protein (ID = P9WMH1)?\n",
    "    2. What is the function/name of the second protein (ID = P0DJL7)?"
   ]
  },
  {
   "cell_type": "markdown",
   "metadata": {},
   "source": [
    "### Great!\n",
    "\n",
    "So far we have learned how to enter and edit Python code in a Jupyter notebook. We have also learned to upload a file and even looked at the first few lines of a very large sequence file.\n",
    "\n",
    "***\n",
    "\n",
    "At this point I will put you all into breakout rooms to complete Jupyter Notebook \"2 - Sequences_and_BLAST.\" \n",
    "\n",
    "<font color=blue><b>STEP 15:</b></font> Open Notebook \"2 - Sequences_and_BLAST\" by double clicking on the file in the left hand panel. The code cells in 2 - Sequences_and_BLAST already have the needed code, to keep you engaged and on your toes, you will have to edit that code in specific (and hopefully clearly annotated) ways.\n",
    "\n",
    "In your breakout rooms, take ~10 minutes to do some introductions, and 35 minutes to read through and complete Notebook \"2 - Sequences_and_BLAST.\" At that point we will regroup, see how groups are coming along, and take a break!\n",
    "\n",
    "If at any point the group becomes lost - Use the Ask for Help Button and invite the host to your breakout room!\n",
    "\n",
    "My colleagues and I will drop in on the groups to see how things are progressing!"
   ]
  },
  {
   "cell_type": "code",
   "execution_count": null,
   "metadata": {},
   "outputs": [],
   "source": []
  }
 ],
 "metadata": {
  "kernelspec": {
   "display_name": "Python 3",
   "language": "python",
   "name": "python3"
  },
  "language_info": {
   "codemirror_mode": {
    "name": "ipython",
    "version": 3
   },
   "file_extension": ".py",
   "mimetype": "text/x-python",
   "name": "python",
   "nbconvert_exporter": "python",
   "pygments_lexer": "ipython3",
   "version": "3.8.5"
  }
 },
 "nbformat": 4,
 "nbformat_minor": 4
}
