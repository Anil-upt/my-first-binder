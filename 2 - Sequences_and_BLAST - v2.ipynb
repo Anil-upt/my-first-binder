{
 "cells": [
  {
   "cell_type": "markdown",
   "metadata": {},
   "source": [
    "# Working with Sequence files using Biopython\n",
    "\n",
    "The code boxes below will increase in complexity as we go on. Comments in the code begin with #s. Read these if you want help understanding the code.\n",
    "\n",
    "In the first code box below, the first line \"turns on\" the SeqIO function of Biopython, a package (set of tools) built for biology and biochemistry! You can learn more at https://biopython.org/\n",
    "\n",
    "The second line uses SeqIO (think: sequence input and output) to read a fasta file and stores the information as a list of records.\n",
    "\n",
    "It outputs the number of sequences, the first ten records in the file, and finally a sequence.\n",
    "\n",
    "<font color=blue><b>STEP 1:</b></font> The command below won't run correctly (you can try it!) unless you enter in the file to read. <b> Between the quotes, where it says <<\\<your file here>>>, change it to : files/uniprot-dtxr.fasta.</b>\n",
    "    \n",
    "Then shift+enter to run the code. Be sure to wait for a number to appear in the brackets to the left of the code box. When the asterisk appears, that code is actively running!\n"
   ]
  },
  {
   "cell_type": "code",
   "execution_count": 1,
   "metadata": {},
   "outputs": [
    {
     "name": "stdout",
     "output_type": "stream",
     "text": [
      "Finished storing the FASTA file in the list called \"records\".\n"
     ]
    }
   ],
   "source": [
    "from Bio import SeqIO # imports the SeqIO function from Biopython\n",
    "\n",
    "records = list(SeqIO.parse(\"files/uniprot-dtxr.fasta\", \"fasta\"))     # reads the fasta file into a list of records \n",
    "print(\"Finished storing the FASTA file in the list called \\\"records\\\".\")"
   ]
  },
  {
   "cell_type": "markdown",
   "metadata": {},
   "source": [
    "While this <em>did</em> read the fasta file into a list of records, it isn't obvious how this helps us. Let's see how we can access different information about the sequence records stored in the list, records.\n",
    "\n",
    "<font color=blue><b>STEP 2:</b></font> The first line below will tell us how many sequences were in the fasta file, and then the information stored in the first item. Note that python numbering starts with the number 0.\n",
    "\n"
   ]
  },
  {
   "cell_type": "code",
   "execution_count": 2,
   "metadata": {},
   "outputs": [
    {
     "name": "stdout",
     "output_type": "stream",
     "text": [
      "There are 31263 sequences in your file.\n",
      "\n",
      "ID: sp|P9WMH1|IDER_MYCTU\n",
      "Name: sp|P9WMH1|IDER_MYCTU\n",
      "Description: sp|P9WMH1|IDER_MYCTU Iron-dependent repressor IdeR OS=Mycobacterium tuberculosis (strain ATCC 25618 / H37Rv) OX=83332 GN=ideR PE=1 SV=1\n",
      "Number of features: 0\n",
      "Seq('MNELVDTTEMYLRTIYDLEEEGVTPLRARIAERLDQSGPTVSQTVSRMERDGLL...EKV')\n"
     ]
    }
   ],
   "source": [
    "print(\"There are %i sequences in your file.\\n\" % len(records))   # prints the number of sequences, that is, the length of the list, named records\n",
    "\n",
    "print(records[0]) #prints the information in the first record\n"
   ]
  },
  {
   "cell_type": "markdown",
   "metadata": {},
   "source": [
    "You should be able to see that first record includes several things: an ID, Name, Description, and a Sequence.\n",
    "\n",
    "We can access each of those items specifically\n",
    "\n",
    "<font color=blue><b>STEP 3:</b></font>  Run the code below to retrieve only the sequence of the first record."
   ]
  },
  {
   "cell_type": "code",
   "execution_count": 3,
   "metadata": {},
   "outputs": [
    {
     "name": "stdout",
     "output_type": "stream",
     "text": [
      "MNELVDTTEMYLRTIYDLEEEGVTPLRARIAERLDQSGPTVSQTVSRMERDGLLRVAGDRHLELTEKGRALAIAVMRKHRLAERLLVDVIGLPWEEVHAEACRWEHVMSEDVERRLVKVLNNPTTSPFGNPIPGLVELGVGPEPGADDANLVRLTELPAGSPVAVVVRQLTEHVQGDIDLITRLKDAGVVPNARVTVETTPGGGVTIVIPGHENVTLPHEMAHAVKVEKV\n"
     ]
    }
   ],
   "source": [
    "print(records[0].seq)"
   ]
  },
  {
   "cell_type": "markdown",
   "metadata": {},
   "source": [
    "The next code box shows us how to list the first 10 ids. Then it lists the first record id and its sequence.\n",
    "\n",
    "<font color=blue><b>STEP 4:</b></font> Run the code box below."
   ]
  },
  {
   "cell_type": "code",
   "execution_count": 4,
   "metadata": {},
   "outputs": [
    {
     "name": "stdout",
     "output_type": "stream",
     "text": [
      "The first 10 sequence record ids are:\n",
      "\n",
      "sp|P9WMH1|IDER_MYCTU\n",
      "sp|P0DJL7|DTXR_CORDI\n",
      "sp|Q8NP95|DTXR_CORGL\n",
      "sp|Q8FPG6|DTXR_COREF\n",
      "sp|Q4JV96|DTXR_CORJK\n",
      "sp|H2I233|DTXR_CORDW\n",
      "sp|P0A673|IDER_MYCBO\n",
      "sp|P9WMH0|IDER_MYCTO\n",
      "sp|P54512|MNTR_BACSU\n",
      "tr|A0A7C2F0J4|A0A7C2F0J4_9BACT\n",
      "\n",
      "The record: sp|P9WMH1|IDER_MYCTU has a sequence of: MNELVDTTEMYLRTIYDLEEEGVTPLRARIAERLDQSGPTVSQTVSRMERDGLLRVAGDRHLELTEKGRALAIAVMRKHRLAERLLVDVIGLPWEEVHAEACRWEHVMSEDVERRLVKVLNNPTTSPFGNPIPGLVELGVGPEPGADDANLVRLTELPAGSPVAVVVRQLTEHVQGDIDLITRLKDAGVVPNARVTVETTPGGGVTIVIPGHENVTLPHEMAHAVKVEKV\n",
      "\n"
     ]
    }
   ],
   "source": [
    "print(\"The first 10 sequence record ids are:\\n\")\n",
    "for i in range(10):                                              # this creates a variable i and counts to 10\n",
    "    print(records[i].id)                                         # prints the id for record i\n",
    "    \n",
    "print(\"\\nThe record: %s has a sequence of: %s\\n\" % (records[0].id, records[0].seq))  # prints the record id and its sequence!"
   ]
  },
  {
   "cell_type": "markdown",
   "metadata": {},
   "source": [
    "***\n",
    "Great! The code above finds the first record (recall in Python we start counting at zero), so records[0].id gets the identification of the first record. \n",
    "\n",
    "<font color=blue><b>STEP 5:</b></font> Edit the last print statement in the code above to give the id and sequence of the 100th record.\n",
    "\n",
    "We can also look at the last record id. You could put in 31262, but -1 is easier! The -1 starts counting from the end of the records list and you don't need to know how many records you have.\n",
    "\n",
    "<font color=blue><b>STEP 6:</b></font> Edit the last print statement in the code above to give the id and sequence of last record."
   ]
  },
  {
   "cell_type": "code",
   "execution_count": null,
   "metadata": {},
   "outputs": [],
   "source": []
  },
  {
   "cell_type": "markdown",
   "metadata": {},
   "source": [
    "***\n",
    "<font color=blue><b>STEP 7:</b></font> Before you move on, check your knowledge by using the empty code box above to enter some code to answer these questions.\n",
    "\n",
    "    1. What is the sequence id for the first record in the file?\n",
    "    2. What is the sequence id for the 250th record in the file?\n",
    "    3. What is the sequence id for the last record in the file?\n",
    "   \n",
    "<font color=blue><b>STEP 8:</b></font> It might be quite clear that simply locating records by their number isn't always the best way to interact with the data. Perhaps we would like to search by name, ID, or description. Let's examine the comments below to see how we can do this. You will need to edit the line that sets the variable search_term.\n",
    "\n",
    "    Search term ideas: DTXR, IDER, MNTR\n",
    "\n",
    "    Where to search ideas: id, description, name\n",
    "\n"
   ]
  },
  {
   "cell_type": "code",
   "execution_count": 5,
   "metadata": {},
   "outputs": [
    {
     "name": "stdout",
     "output_type": "stream",
     "text": [
      "We didn't find any results for the search term: <<<search term here>>>\n"
     ]
    }
   ],
   "source": [
    "import re  # imports the re functions\n",
    "\n",
    "search_term = \"<<<search term here>>>\"   # in between the quotes we can add a search term.\n",
    "                                         \n",
    "\n",
    "counter = 0.   # a variable to keep track of how many times we find the term\n",
    "\n",
    "for item in records:                       # this creates a loop to iterate over all the records               \n",
    "    if re.search(search_term, item.id):    # Here we use re.search to find the search term in the item ID, returns true if yes\n",
    "        print(item.id)                     # If the above is true we print the item ID\n",
    "        counter = counter + 1              # and increment our counter\n",
    "    else: continue                         # if the search term wasn't found we do nothing, just continue on\n",
    "\n",
    "        \n",
    "# the next two lines print a summary for us - either no hits or how many hits.\n",
    "        \n",
    "if not counter: print(\"We didn't find any results for the search term: %s\" % search_term)\n",
    "else: print(\"\\nWe found %i records with the search term: %s\" % (counter, search_term))"
   ]
  },
  {
   "cell_type": "markdown",
   "metadata": {},
   "source": [
    "***\n",
    "\n",
    "<font color=blue><b>STEP 9:</b></font> Edit the code above to search the description rather than the ID. Make sure to change it in all 3 places!\n",
    "\n",
    "***\n",
    "\n",
    "Hopefully, we can see that using Biopython's SeqIO function allowed us to store lots of data in a way that is rapidly accessible.\n",
    "\n",
    "As you have seen above, the ids are a little long and redundant. The code below simplifies the record and writes a new, corrected file."
   ]
  },
  {
   "cell_type": "code",
   "execution_count": 6,
   "metadata": {},
   "outputs": [],
   "source": [
    "original_file = \"files/uniprot-dtxr.fasta\"\n",
    "corrected_file = \"files/uniprot-dtxr_corr.fasta\"\n",
    "\n",
    "with open(original_file) as original, open(corrected_file, 'w') as corrected:\n",
    "    records = SeqIO.parse(original_file, 'fasta')\n",
    "\n",
    "    for record in records:\n",
    "        name = str.split(record.id, \"|\")[1]\n",
    "        record.id = name\n",
    "        #print record.id             # prints 'bar' as expected\n",
    "        SeqIO.write(record, corrected, 'fasta')"
   ]
  },
  {
   "cell_type": "code",
   "execution_count": 7,
   "metadata": {},
   "outputs": [],
   "source": [
    "for record in SeqIO.parse(\"files/uniprot-dtxr_corr.fasta\", \"fasta\"):\n",
    "    #print(record.id)\n",
    "    continue"
   ]
  },
  {
   "cell_type": "code",
   "execution_count": 8,
   "metadata": {},
   "outputs": [
    {
     "name": "stdout",
     "output_type": "stream",
     "text": [
      "================================================================\n",
      "Program: CD-HIT, V4.8.1, Mar 01 2019, 06:12:48\n",
      "Command: cd-hit -i files/uniprot-dtxr_corr.fasta -o\n",
      "         files/uniprot-dtxr_40.fasta -c 0.4 -n 2\n",
      "\n",
      "Started: Thu Jun 17 14:28:12 2021\n",
      "================================================================\n",
      "                            Output                              \n",
      "----------------------------------------------------------------\n",
      "total seq: 31263\n",
      "longest and shortest : 1366 and 24\n",
      "Total letters: 6159848\n",
      "Sequences have been sorted\n",
      "\n",
      "Approximated minimal memory consumption:\n",
      "Sequence        : 10M\n",
      "Buffer          : 1 X 11M = 11M\n",
      "Table           : 1 X 0M = 0M\n",
      "Miscellaneous   : 0M\n",
      "Total           : 22M\n",
      "\n",
      "Table limit with the given memory limit:\n",
      "Max number of representatives: 2420534\n",
      "Max number of word counting entries: 97234706\n",
      "\n",
      "comparing sequences from          0  to      31263\n",
      "..........    10000  finished        483  clusters\n",
      "..........    20000  finished        798  clusters\n",
      "..........    30000  finished       1042  clusters\n",
      ".\n",
      "    31263  finished       1136  clusters\n",
      "\n",
      "Approximated maximum memory consumption: 23M\n",
      "writing new database\n",
      "writing clustering information\n",
      "program completed !\n",
      "\n",
      "Total CPU time 141.27\n"
     ]
    }
   ],
   "source": [
    "!cd-hit -i files/uniprot-dtxr_corr.fasta -o files/uniprot-dtxr_40.fasta -c 0.4 -n 2"
   ]
  },
  {
   "cell_type": "code",
   "execution_count": 9,
   "metadata": {},
   "outputs": [
    {
     "name": "stdout",
     "output_type": "stream",
     "text": [
      "There are 1136 sequences in your file.\n",
      "\n",
      "The first 10 sequence record ids are:\n",
      "\n",
      "Q8NQ98\n",
      "F3B501\n",
      "A0A497M387\n",
      "A0A524MTU1\n",
      "A0A2E0F0J5\n",
      "A0A0X8I962\n",
      "Q2FNJ6\n",
      "A0A7C4F2Z8\n",
      "A0A0U3H9X3\n",
      "A0A2E6F4J2\n",
      "\n",
      "The record: Q8NQ98 has a sequence of: MTESKNSFNAKSTLEVGDKSYDYFALSAVPGMEKLPYSLKVLGENLLRTEDGANITNEHIEAIANWDASSDPSIEIQFTPARVLMQDFTGVPCVVDLATMREAVAALGGDPNDVNPLNPAEMVIDHSVIVEAFGRPDALAKNVEIEYERNEERYQFLRWGSESFSNFRVVPPGTGIVHQVNIEYLARVVFDNEGLAYPDTCIGTDSHTTMENGLGILGWGVGGIEAEAAMLGQPVSMLIPRVVGFKLTGEIPVGVTATDVVLTITEMLRDHGVVQKFVEFYGSGVKAVPLANRATIGNMSPEFGSTCAMFPIDEETTKYLRLTGRPEEQVALVEAYAKAQGMWLDEDTVEAEYSEYLELDLSTVVPSIAGPKRPQDRILLSEAKEQFRKDLPTYTDDAVSVDTSIPATRMVNEGGGQPEGGVEADNYNASWAGSGESLATGAEGRPSKPVTVASPQGGEYTIDHGMVAIASITSCTNTSNPSVMIGAGLIARKAAEKGLKSKPWVKTICAPGSQVVDGYYQRADLWKDLEAMGFYLSGFGCTTCIGNSGPLPEEISAAINEHDLTATAVLSGNRNFEGRISPDVKMNYLASPIMVIAYAIAGTMDFDFENEALGQDQDGNDVFLKDIWPSTEEIEDTIQQAISRELYEADYADVFKGDKQWQELDVPTGDTFEWDENSTYIRKAPYFDGMPVEPVAVTDIQGARVLAKLGDSVTTDHISPASSIKPGTPAAQYLDEHGVERHDYNSLGSRRGNHEVMMRGTFANIRLQNQLVDIAGGYTRDFTQEGAPQAFIYDASVNYKAAGIPLVVLGGKEYGTGSSRDWAAKGTNLLGIRAVITESFERIHRSNLIGMGVVPLQFPAGESHESLGLDGTETFDITGLTALNEGETPKTVKVTATKENGDVVEFDAVVRIDTPGEADYYRHGGILQYVLRQMAASSK\n",
      "\n"
     ]
    }
   ],
   "source": [
    "records = list(SeqIO.parse(\"files/uniprot-dtxr_40.fasta\", \"fasta\"))\n",
    "print(\"There are %i sequences in your file.\\n\" % len(records))\n",
    "\n",
    "print(\"The first 10 sequence record ids are:\\n\")\n",
    "for i in range(10):\n",
    "    print(records[i].id)\n",
    "\n",
    "    \n",
    "print(\"\\nThe record: %s has a sequence of: %s\\n\" % (records[0].id, records[0].seq))"
   ]
  },
  {
   "cell_type": "code",
   "execution_count": 10,
   "metadata": {},
   "outputs": [],
   "source": [
    "from Bio import SeqIO\n",
    "\n",
    "original_file = \"files/uniprot-dtxr_40.fasta\"\n",
    "corrected_file = \"files/uniprot-dtxr_corr_40_trim.fasta\"\n",
    "\n",
    "with open(original_file) as original, open(corrected_file, 'w') as corrected:\n",
    "    records = SeqIO.parse(original_file, 'fasta')\n",
    "\n",
    "    for record in records:\n",
    "        if len(record.seq) > 120 and len(record.seq) < 280: \n",
    "            #print(len(record.seq))\n",
    "            SeqIO.write(record, corrected, 'fasta')"
   ]
  },
  {
   "cell_type": "markdown",
   "metadata": {},
   "source": [
    "Next add in knowns (those with structures!!!)"
   ]
  },
  {
   "cell_type": "code",
   "execution_count": null,
   "metadata": {},
   "outputs": [],
   "source": [
    "#!cat files/uniprot-dtxr_corr_40_trim.fasta files/dtxr_pdbs.fasta > files/final_40.fasta"
   ]
  },
  {
   "cell_type": "code",
   "execution_count": 11,
   "metadata": {},
   "outputs": [
    {
     "name": "stdout",
     "output_type": "stream",
     "text": [
      "There are 816 sequences in your file.\n",
      "\n",
      "The first 10 sequence record ids are:\n",
      "\n",
      "A0A497M387\n",
      "A0A524MTU1\n",
      "A0A2E0F0J5\n",
      "A0A0X8I962\n",
      "Q2FNJ6\n",
      "A0A7C4F2Z8\n",
      "A0A0U3H9X3\n",
      "A0A2E6F4J2\n",
      "A0A2E8NTL8\n",
      "A0A523SSL5\n",
      "\n",
      "The record: A0A497M387 has a sequence of: MRETQLVIFVVLCFDRLIFITLLYELRGLVEKGQKMKRQPRLTKQSEEYLEAIYKLQERNGVAKTTEIAKQLNVALGSVTNTIECLERKGLIEHKPYKGVKLTEKGKREALKVIRRHRLAERLLVDILKMEWSQVHEAACSLEHALNEEVLKHIERALRYPAKCPHGNPIPTSDGKIEEEPSYPLNMLEIGKHAEIVKLTEESREKLKILEEYRIKPRRKLYLMDKNSEEGFLKVKIDGKSLELSSEIAAIIWVREINE\n",
      "\n"
     ]
    }
   ],
   "source": [
    "records = list(SeqIO.parse(\"files/uniprot-dtxr_corr_40_trim.fasta\", \"fasta\"))\n",
    "print(\"There are %i sequences in your file.\\n\" % len(records))\n",
    "\n",
    "print(\"The first 10 sequence record ids are:\\n\")\n",
    "for i in range(10):\n",
    "    print(records[i].id)\n",
    "\n",
    "    \n",
    "print(\"\\nThe record: %s has a sequence of: %s\\n\" % (records[0].id, records[0].seq))"
   ]
  },
  {
   "cell_type": "code",
   "execution_count": 12,
   "metadata": {},
   "outputs": [
    {
     "name": "stdout",
     "output_type": "stream",
     "text": [
      "\n",
      "\n",
      "Building a new DB, current time: 06/17/2021 14:31:04\n",
      "New DB name:   /Users/novakw/Box/_novakw/Big Data/my-first-binder/current working/files/finalpro_40\n",
      "New DB title:  files/uniprot-dtxr_corr_40_trim.fasta\n",
      "Sequence type: Protein\n",
      "Keep MBits: T\n",
      "Maximum file size: 1000000000B\n",
      "Adding sequences from FASTA; added 816 sequences in 0.045063 seconds.\n"
     ]
    }
   ],
   "source": [
    "!makeblastdb -in files/uniprot-dtxr_corr_40_trim.fasta -dbtype prot -out files/finalpro_40"
   ]
  },
  {
   "cell_type": "code",
   "execution_count": 13,
   "metadata": {},
   "outputs": [],
   "source": [
    "!blastp -db files/finalpro_40 -query files/uniprot-dtxr_corr_40_trim.fasta -outfmt \"6 qseqid sseqid evalue\" -out files/BLASTe40_out -num_threads 4 -evalue 10e-40"
   ]
  },
  {
   "cell_type": "code",
   "execution_count": null,
   "metadata": {},
   "outputs": [],
   "source": []
  }
 ],
 "metadata": {
  "kernelspec": {
   "display_name": "Python 3",
   "language": "python",
   "name": "python3"
  },
  "language_info": {
   "codemirror_mode": {
    "name": "ipython",
    "version": 3
   },
   "file_extension": ".py",
   "mimetype": "text/x-python",
   "name": "python",
   "nbconvert_exporter": "python",
   "pygments_lexer": "ipython3",
   "version": "3.8.5"
  }
 },
 "nbformat": 4,
 "nbformat_minor": 4
}
