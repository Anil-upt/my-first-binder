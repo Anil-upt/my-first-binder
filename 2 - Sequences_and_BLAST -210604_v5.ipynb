{
 "cells": [
  {
   "cell_type": "markdown",
   "metadata": {},
   "source": [
    "# Importing some sequence data!\n",
    "\n",
    "In this exercise we will retrieve and upload a set of diphthteria toxin repressor (DTXR)-like protein sequences from Uniprot. \n",
    "\n",
    "Click this link to head to https://uniprot.org\n",
    "\n",
    "***\n",
    "At the uniprot site...\n",
    "\n",
    "Type dtxr in the search bar and hit return.\n",
    "\n",
    "Check out the results and consider these questions:\n",
    "\n",
    "    1. How many results did you get from this search?\n",
    "    2. How many results are reviewed?\n",
    "    3. How many sequences are unreviewed?\n",
    "\n",
    "Hopefully you found something like 31,263 total sequences. I would certainly call this <b>big data</b> - way too many sets to look at manually!\n",
    "\n",
    "Near the top of the sequences you will see the download button. Download all the sequences in FASTA (canonical) format and ensure <b>uncompressed</b> is checked. I named the file uniprot-dtxr.fasta. That is easiest, but you could name it something else.<br> <img src=\"images/download.png\" width=200>\n",
    "\n",
    "Next, we will upload this file to Binder. In the files panel at the left, <b>double click the files folder to open it</b>. You should see two existing files in there: dtxr_pdbs.fasta and dtxr.tfa.\n",
    "\n",
    "Now you may either drag the uniprot-dtxr.fasta file into that folder or click the Upload files button that looks like this:<img src=\"images/upload.png\" width=50>"
   ]
  },
  {
   "cell_type": "markdown",
   "metadata": {},
   "source": [
    "***\n",
    "\n",
    "# Working with Sequence files using Biopython\n",
    "\n",
    "The code box below is the most complicated we have seen. Comments in the code begin with #s. Read these if you want help understanding the code.\n",
    "\n",
    "The first line \"turns on\" Biopython, a set of tools built for biology and biochemistry!\n",
    "\n",
    "You can learn more at https://biopython.org/\n",
    "\n",
    "The second line uses SeqIO (think: sequence input and output) to read a fasta file and stores the information as a list of records.\n",
    "\n",
    "It outputs the number of sequences, the first ten records in the file, and finally a sequence.\n",
    "\n",
    "The command below won't run correctly (you can try it!) unless you enter in the file to read. <b> Between the quotes, where it says <<\\<your file here>>>, change it to : files/uniprot-dtxr.fasta.</b>\n",
    "    \n",
    "Then shift+enter to run the code.\n"
   ]
  },
  {
   "cell_type": "code",
   "execution_count": null,
   "metadata": {},
   "outputs": [],
   "source": [
    "from Bio import SeqIO # imports the SeqIO function from Biopython\n",
    "\n",
    "records = list(SeqIO.parse(\"<<<your file here>>>\", \"fasta\"))     # reads the fasta file into a list of records \n",
    "print(\"There are %i sequences in your file.\\n\" % len(records))   # prints the number of sequences, that is, the length of the list, named records\n",
    "\n",
    "print(\"The first 10 sequence record ids are:\\n\")\n",
    "for i in range(10):                                              # this creates a variable i and counts to 10\n",
    "    print(records[i].id)                                         # prints the id for record i\n",
    "    \n",
    "print(\"\\nThe record: %s has a sequence of: %s\\n\" % (records[0].id, records[0].seq))  # prints the record id and its sequence!\n"
   ]
  },
  {
   "cell_type": "markdown",
   "metadata": {},
   "source": [
    "Great! The code below finds the first record (in Python we start counting at zero), so records[0].id gets the identification of the first record. Edit the code to give the 100th record (Hint: remember to subtract 1).\n",
    "\n",
    "We can also look at the last record id. You could put in 31262, but -1 is easier! The -1 starts from the opposite end and you don't need to know how many records you have."
   ]
  },
  {
   "cell_type": "code",
   "execution_count": null,
   "metadata": {},
   "outputs": [],
   "source": [
    "print(records[0].id)"
   ]
  },
  {
   "cell_type": "markdown",
   "metadata": {},
   "source": [
    "***\n",
    "Before you move on, check your knowledge by answering these questions:\n",
    "\n",
    "    1. What is the sequence id for the first record in the file?\n",
    "    2. What is the sequence id for the 100th record in the file?\n",
    "    3. What is the sequence id for the last record in the file?\n",
    "\n",
    "***"
   ]
  },
  {
   "cell_type": "markdown",
   "metadata": {},
   "source": [
    "As you have seen above, the ids are a little long and redundant. The code below simplifies the record and writes a new, corrected file."
   ]
  },
  {
   "cell_type": "code",
   "execution_count": null,
   "metadata": {},
   "outputs": [],
   "source": [
    "original_file = \"files/uniprot-dtxr.fasta\"\n",
    "corrected_file = \"files/uniprot-dtxr_corr.fasta\"\n",
    "\n",
    "with open(original_file) as original, open(corrected_file, 'w') as corrected:\n",
    "    records = SeqIO.parse(original_file, 'fasta')\n",
    "\n",
    "    for record in records:\n",
    "        name = str.split(record.id, \"|\")[1]\n",
    "        record.id = name\n",
    "        #print record.id             # prints 'bar' as expected\n",
    "        SeqIO.write(record, corrected, 'fasta')"
   ]
  },
  {
   "cell_type": "code",
   "execution_count": null,
   "metadata": {},
   "outputs": [],
   "source": [
    "for record in SeqIO.parse(\"files/uniprot-dtxr_corr.fasta\", \"fasta\"):\n",
    "    #print(record.id)\n",
    "    continue"
   ]
  },
  {
   "cell_type": "code",
   "execution_count": null,
   "metadata": {},
   "outputs": [],
   "source": [
    "!cd-hit -i files/uniprot-dtxr_corr.fasta -o files/uniprot-dtxr_corr_40.fasta -c 0.4 -n 2"
   ]
  },
  {
   "cell_type": "code",
   "execution_count": null,
   "metadata": {},
   "outputs": [],
   "source": [
    "records = list(SeqIO.parse(\"files/uniprot-dtxr_corr_40.fasta\", \"fasta\"))\n",
    "print(\"There are %i sequences in your file.\\n\" % len(records))\n",
    "\n",
    "print(\"The first 10 sequence record ids are:\\n\")\n",
    "for i in range(10):\n",
    "    print(records[i].id)\n",
    "\n",
    "    \n",
    "print(\"\\nThe record: %s has a sequence of: %s\\n\" % (records[0].id, records[0].seq))"
   ]
  },
  {
   "cell_type": "code",
   "execution_count": null,
   "metadata": {},
   "outputs": [],
   "source": [
    "from Bio import SeqIO\n",
    "\n",
    "original_file = \"files/uniprot-dtxr_corr_40.fasta\"\n",
    "corrected_file = \"files/uniprot-dtxr_corr_40_trim.fasta\"\n",
    "\n",
    "with open(original_file) as original, open(corrected_file, 'w') as corrected:\n",
    "    records = SeqIO.parse(original_file, 'fasta')\n",
    "\n",
    "    for record in records:\n",
    "        if len(record.seq) > 120 and len(record.seq) < 280: \n",
    "            #print(len(record.seq))\n",
    "            SeqIO.write(record, corrected, 'fasta')"
   ]
  },
  {
   "cell_type": "markdown",
   "metadata": {},
   "source": [
    "Next add in knowns (those with structures!!!)"
   ]
  },
  {
   "cell_type": "code",
   "execution_count": null,
   "metadata": {},
   "outputs": [],
   "source": [
    "!cat files/uniprot-dtxr_corr_40_trim.fasta files/dtxr_pdbs.fasta > files/final_40.fasta"
   ]
  },
  {
   "cell_type": "code",
   "execution_count": null,
   "metadata": {},
   "outputs": [],
   "source": [
    "records = list(SeqIO.parse(\"files/final.fasta\", \"fasta\"))\n",
    "print(\"There are %i sequences in your file.\\n\" % len(records))\n",
    "\n",
    "print(\"The first 10 sequence record ids are:\\n\")\n",
    "for i in range(10):\n",
    "    print(records[i].id)\n",
    "\n",
    "    \n",
    "print(\"\\nThe record: %s has a sequence of: %s\\n\" % (records[0].id, records[0].seq))"
   ]
  },
  {
   "cell_type": "code",
   "execution_count": null,
   "metadata": {},
   "outputs": [],
   "source": [
    "!makeblastdb -in files/final_40.fasta -dbtype prot -out files/finalpro_40"
   ]
  },
  {
   "cell_type": "code",
   "execution_count": null,
   "metadata": {},
   "outputs": [],
   "source": [
    "!blastp -db files/finalpro_40 -query files/final_40.fasta -outfmt \"6 qseqid sseqid evalue\" -out files/BLASTe40_out -num_threads 4 -evalue 10e-40"
   ]
  },
  {
   "cell_type": "code",
   "execution_count": null,
   "metadata": {},
   "outputs": [],
   "source": []
  }
 ],
 "metadata": {
  "kernelspec": {
   "display_name": "Python 3",
   "language": "python",
   "name": "python3"
  },
  "language_info": {
   "codemirror_mode": {
    "name": "ipython",
    "version": 3
   },
   "file_extension": ".py",
   "mimetype": "text/x-python",
   "name": "python",
   "nbconvert_exporter": "python",
   "pygments_lexer": "ipython3",
   "version": "3.7.10"
  }
 },
 "nbformat": 4,
 "nbformat_minor": 4
}
