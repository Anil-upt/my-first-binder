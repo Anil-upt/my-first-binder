{
 "cells": [
  {
   "cell_type": "markdown",
   "metadata": {},
   "source": [
    "File formats and working with data \n",
    "\n",
    "Let's look at a the FASTA format file for green fluorescent protein\n",
    "\n",
    "\\>sp|P42212.1|GFP_AEQVI RecName: Full=Green fluorescent protein\n",
    "MSKGEELFTGVVPILVELDGDVNGHKFSVSGEGEGDATYGKLTLKFICTTGKLPVPWPTLVTTFS\n",
    "YGVQCFSRYPDHMKQHDFFKSAMPEGYVQERTIFFKDDGNYKTRAEVKFEGDTLVNRIELKGIDF\n",
    "KEDGNILGHKLEYNYNSHNVYIMADKQKNGIKVNFKIRHNIEDGSVQLADHYQQNTPIGDGPVLL\n",
    "PDNHYLSTQSALSKDPNEKRDHMVLLEFVTAAGITHGMDELYK                                           \n",
    "\n",
    "The first line always begins with a greater than symbol and then gives the name and/or some description of the protein. The next line contains the sequence in single-letter amino acid code.\n",
    "\n",
    "Let's go ahead and create a sample fasta record using this data.\n",
    "\n",
    "In the code box below copy this text:\n",
    "\n"
   ]
  },
  {
   "cell_type": "code",
   "execution_count": 2,
   "metadata": {},
   "outputs": [
    {
     "name": "stdout",
     "output_type": "stream",
     "text": [
      "There are 31263 sequences in your file.\n",
      "\n",
      "The first 10 sequence record ids are:\n",
      "\n",
      "sp|P9WMH1|IDER_MYCTU\n",
      "sp|P0DJL7|DTXR_CORDI\n",
      "sp|Q8NP95|DTXR_CORGL\n",
      "sp|Q8FPG6|DTXR_COREF\n",
      "sp|Q4JV96|DTXR_CORJK\n",
      "sp|H2I233|DTXR_CORDW\n",
      "sp|P0A673|IDER_MYCBO\n",
      "sp|P9WMH0|IDER_MYCTO\n",
      "sp|P54512|MNTR_BACSU\n",
      "tr|A0A7C2F0J4|A0A7C2F0J4_9BACT\n",
      "\n",
      "The record: sp|P9WMH1|IDER_MYCTU has a sequence of: MNELVDTTEMYLRTIYDLEEEGVTPLRARIAERLDQSGPTVSQTVSRMERDGLLRVAGDRHLELTEKGRALAIAVMRKHRLAERLLVDVIGLPWEEVHAEACRWEHVMSEDVERRLVKVLNNPTTSPFGNPIPGLVELGVGPEPGADDANLVRLTELPAGSPVAVVVRQLTEHVQGDIDLITRLKDAGVVPNARVTVETTPGGGVTIVIPGHENVTLPHEMAHAVKVEKV\n",
      "\n"
     ]
    }
   ],
   "source": [
    "from Bio import SeqIO\n",
    "\n",
    "records = list(SeqIO.parse(\"files/uniprot-dtxr.fasta\", \"fasta\"))\n",
    "print(\"There are %i sequences in your file.\\n\" % len(records))\n",
    "\n",
    "print(\"The first 10 sequence record ids are:\\n\")\n",
    "for i in range(10):\n",
    "    print(records[i].id)\n",
    "\n",
    "    \n",
    "print(\"\\nThe record: %s has a sequence of: %s\\n\" % (records[0].id, records[0].seq))\n"
   ]
  },
  {
   "cell_type": "code",
   "execution_count": null,
   "metadata": {},
   "outputs": [],
   "source": []
  },
  {
   "cell_type": "code",
   "execution_count": 10,
   "metadata": {},
   "outputs": [
    {
     "name": "stdout",
     "output_type": "stream",
     "text": [
      "P9WMH1\n"
     ]
    }
   ],
   "source": [
    "name = str.split(records[0].id, \"|\")[1]\n",
    "print(name)"
   ]
  },
  {
   "cell_type": "code",
   "execution_count": 15,
   "metadata": {},
   "outputs": [],
   "source": [
    "original_file = \"files/uniprot-dtxr.fasta\"\n",
    "corrected_file = \"files/uniprot-dtxr_corr.fasta\"\n",
    "\n",
    "with open(original_file) as original, open(corrected_file, 'w') as corrected:\n",
    "    records = SeqIO.parse(original_file, 'fasta')\n",
    "\n",
    "    for record in records:\n",
    "        name = str.split(record.id, \"|\")[1]\n",
    "        record.id = name\n",
    "        #print record.id             # prints 'bar' as expected\n",
    "        SeqIO.write(record, corrected, 'fasta')"
   ]
  },
  {
   "cell_type": "code",
   "execution_count": 19,
   "metadata": {},
   "outputs": [],
   "source": [
    "for record in SeqIO.parse(\"files/uniprot-dtxr_corr.fasta\", \"fasta\"):\n",
    "    #print(record.id)\n",
    "    continue"
   ]
  },
  {
   "cell_type": "code",
   "execution_count": 21,
   "metadata": {},
   "outputs": [
    {
     "name": "stdout",
     "output_type": "stream",
     "text": [
      "================================================================\n",
      "Program: CD-HIT, V4.8.1 (+OpenMP), Apr 07 2021, 10:57:21\n",
      "Command: cd-hit -i files/uniprot-dtxr_corr.fasta -o\n",
      "         files/uniprot-dtxr_corr_90.fasta -c 0.9\n",
      "\n",
      "Started: Fri Jun  4 14:20:37 2021\n",
      "================================================================\n",
      "                            Output                              \n",
      "----------------------------------------------------------------\n",
      "total seq: 31263\n",
      "longest and shortest : 1366 and 24\n",
      "Total letters: 6159848\n",
      "Sequences have been sorted\n",
      "\n",
      "Approximated minimal memory consumption:\n",
      "Sequence        : 10M\n",
      "Buffer          : 1 X 11M = 11M\n",
      "Table           : 1 X 65M = 65M\n",
      "Miscellaneous   : 0M\n",
      "Total           : 87M\n",
      "\n",
      "Table limit with the given memory limit:\n",
      "Max number of representatives: 2217219\n",
      "Max number of word counting entries: 89067386\n",
      "\n",
      "comparing sequences from          0  to      31263\n",
      "..........    10000  finished       4548  clusters\n",
      "..........    20000  finished       9579  clusters\n",
      "..........    30000  finished      13758  clusters\n",
      ".\n",
      "    31263  finished      14294  clusters\n",
      "\n",
      "Approximated maximum memory consumption: 110M\n",
      "writing new database\n",
      "writing clustering information\n",
      "program completed !\n",
      "\n",
      "Total CPU time 5.52\n"
     ]
    }
   ],
   "source": [
    "!cd-hit -i files/uniprot-dtxr_corr.fasta -o files/uniprot-dtxr_corr_90.fasta -c 0.9"
   ]
  },
  {
   "cell_type": "code",
   "execution_count": 22,
   "metadata": {},
   "outputs": [
    {
     "name": "stdout",
     "output_type": "stream",
     "text": [
      "================================================================\n",
      "Program: CD-HIT, V4.8.1 (+OpenMP), Apr 07 2021, 10:57:21\n",
      "Command: cd-hit -i files/uniprot-dtxr_corr.fasta -o\n",
      "         files/uniprot-dtxr_corr_70.fasta -c 0.7\n",
      "\n",
      "Started: Fri Jun  4 14:21:23 2021\n",
      "================================================================\n",
      "                            Output                              \n",
      "----------------------------------------------------------------\n",
      "total seq: 31263\n",
      "longest and shortest : 1366 and 24\n",
      "Total letters: 6159848\n",
      "Sequences have been sorted\n",
      "\n",
      "Approximated minimal memory consumption:\n",
      "Sequence        : 10M\n",
      "Buffer          : 1 X 11M = 11M\n",
      "Table           : 1 X 65M = 65M\n",
      "Miscellaneous   : 0M\n",
      "Total           : 87M\n",
      "\n",
      "Table limit with the given memory limit:\n",
      "Max number of representatives: 2217219\n",
      "Max number of word counting entries: 89067386\n",
      "\n",
      "comparing sequences from          0  to      31263\n",
      "..........    10000  finished       2531  clusters\n",
      "..........    20000  finished       5177  clusters\n",
      "..........    30000  finished       7286  clusters\n",
      ".\n",
      "    31263  finished       7589  clusters\n",
      "\n",
      "Approximated maximum memory consumption: 99M\n",
      "writing new database\n",
      "writing clustering information\n",
      "program completed !\n",
      "\n",
      "Total CPU time 7.92\n"
     ]
    }
   ],
   "source": [
    "!cd-hit -i files/uniprot-dtxr_corr.fasta -o files/uniprot-dtxr_corr_70.fasta -c 0.7"
   ]
  },
  {
   "cell_type": "code",
   "execution_count": 25,
   "metadata": {},
   "outputs": [
    {
     "name": "stdout",
     "output_type": "stream",
     "text": [
      "There are 7589 sequences in your file.\n",
      "\n",
      "The first 10 sequence record ids are:\n",
      "\n",
      "Q4JV96\n",
      "A0A7C2F0J4\n",
      "Q8NQ98\n",
      "F3B501\n",
      "A0A6B8VWX5\n",
      "A0A497M387\n",
      "F8DXY3\n",
      "C4LJ14\n",
      "A0A076NPQ6\n",
      "I7L8E4\n",
      "\n",
      "The record: Q4JV96 has a sequence of: MRDLVDTTEMYLRTIYELEEEGIPPLRARIAERLDQSGPTVSQTVARMERDELLTVEKDRSLKLSAQGRALATAVMRKHRLAERLLTDVIGLPWEKVHDEACRWEHVMGDEVEVQLVKVLSEYATSPFGNPIPGLDELMEGIPDSERAELQQKIDNLQVVTSQRASDIEPPEPIQVKILSINEIIQVEHKLMAKFHALGMRPGSVVDLVATEDGLEFSNDNGAMVVPEELGHAVRVEKVN\n",
      "\n"
     ]
    }
   ],
   "source": [
    "records = list(SeqIO.parse(\"files/uniprot-dtxr_corr_70.fasta\", \"fasta\"))\n",
    "print(\"There are %i sequences in your file.\\n\" % len(records))\n",
    "\n",
    "print(\"The first 10 sequence record ids are:\\n\")\n",
    "for i in range(10):\n",
    "    print(records[i].id)\n",
    "\n",
    "    \n",
    "print(\"\\nThe record: %s has a sequence of: %s\\n\" % (records[0].id, records[0].seq))"
   ]
  },
  {
   "cell_type": "code",
   "execution_count": 6,
   "metadata": {},
   "outputs": [],
   "source": [
    "from Bio import SeqIO\n",
    "\n",
    "original_file = \"files/uniprot-dtxr_corr_70.fasta\"\n",
    "corrected_file = \"files/uniprot-dtxr_corr_70_trim.fasta\"\n",
    "\n",
    "with open(original_file) as original, open(corrected_file, 'w') as corrected:\n",
    "    records = SeqIO.parse(original_file, 'fasta')\n",
    "\n",
    "    for record in records:\n",
    "        if len(record.seq) > 120 and len(record.seq) < 300: \n",
    "            #print(len(record.seq))\n",
    "            SeqIO.write(record, corrected, 'fasta')"
   ]
  },
  {
   "cell_type": "code",
   "execution_count": 7,
   "metadata": {},
   "outputs": [
    {
     "name": "stdout",
     "output_type": "stream",
     "text": [
      "There are 6510 sequences in your file.\n",
      "\n",
      "The first 10 sequence record ids are:\n",
      "\n",
      "Q4JV96\n",
      "A0A6B8VWX5\n",
      "A0A497M387\n",
      "F8DXY3\n",
      "C4LJ14\n",
      "A0A076NPQ6\n",
      "I7L8E4\n",
      "C0XSL1\n",
      "A0A524MTU1\n",
      "A0A550H4H4\n",
      "\n",
      "The record: Q4JV96 has a sequence of: MRDLVDTTEMYLRTIYELEEEGIPPLRARIAERLDQSGPTVSQTVARMERDELLTVEKDRSLKLSAQGRALATAVMRKHRLAERLLTDVIGLPWEKVHDEACRWEHVMGDEVEVQLVKVLSEYATSPFGNPIPGLDELMEGIPDSERAELQQKIDNLQVVTSQRASDIEPPEPIQVKILSINEIIQVEHKLMAKFHALGMRPGSVVDLVATEDGLEFSNDNGAMVVPEELGHAVRVEKVN\n",
      "\n"
     ]
    }
   ],
   "source": [
    "records = list(SeqIO.parse(\"files/uniprot-dtxr_corr_70_trim.fasta\", \"fasta\"))\n",
    "print(\"There are %i sequences in your file.\\n\" % len(records))\n",
    "\n",
    "print(\"The first 10 sequence record ids are:\\n\")\n",
    "for i in range(10):\n",
    "    print(records[i].id)\n",
    "\n",
    "    \n",
    "print(\"\\nThe record: %s has a sequence of: %s\\n\" % (records[0].id, records[0].seq))"
   ]
  },
  {
   "cell_type": "markdown",
   "metadata": {},
   "source": [
    "Next add in knowns (those with structures!!!)"
   ]
  },
  {
   "cell_type": "code",
   "execution_count": 8,
   "metadata": {},
   "outputs": [],
   "source": [
    "!cat files/uniprot-dtxr_corr_70_trim.fasta files/dtxr_pdbs.fasta > files/final.fasta"
   ]
  },
  {
   "cell_type": "code",
   "execution_count": 11,
   "metadata": {},
   "outputs": [
    {
     "name": "stdout",
     "output_type": "stream",
     "text": [
      "There are 6516 sequences in your file.\n",
      "\n",
      "The first 10 sequence record ids are:\n",
      "\n",
      "Q4JV96\n",
      "A0A6B8VWX5\n",
      "A0A497M387\n",
      "F8DXY3\n",
      "C4LJ14\n",
      "A0A076NPQ6\n",
      "I7L8E4\n",
      "C0XSL1\n",
      "A0A524MTU1\n",
      "A0A550H4H4\n",
      "\n",
      "The record: Q4JV96 has a sequence of: MRDLVDTTEMYLRTIYELEEEGIPPLRARIAERLDQSGPTVSQTVARMERDELLTVEKDRSLKLSAQGRALATAVMRKHRLAERLLTDVIGLPWEKVHDEACRWEHVMGDEVEVQLVKVLSEYATSPFGNPIPGLDELMEGIPDSERAELQQKIDNLQVVTSQRASDIEPPEPIQVKILSINEIIQVEHKLMAKFHALGMRPGSVVDLVATEDGLEFSNDNGAMVVPEELGHAVRVEKVN\n",
      "\n"
     ]
    }
   ],
   "source": [
    "records = list(SeqIO.parse(\"files/final.fasta\", \"fasta\"))\n",
    "print(\"There are %i sequences in your file.\\n\" % len(records))\n",
    "\n",
    "print(\"The first 10 sequence record ids are:\\n\")\n",
    "for i in range(10):\n",
    "    print(records[i].id)\n",
    "\n",
    "    \n",
    "print(\"\\nThe record: %s has a sequence of: %s\\n\" % (records[0].id, records[0].seq))"
   ]
  },
  {
   "cell_type": "code",
   "execution_count": 13,
   "metadata": {},
   "outputs": [
    {
     "name": "stdout",
     "output_type": "stream",
     "text": [
      "\n",
      "\n",
      "Building a new DB, current time: 06/04/2021 14:57:31\n",
      "New DB name:   /home/jovyan/files/finalpro\n",
      "New DB title:  files/final.fasta\n",
      "Sequence type: Protein\n",
      "Deleted existing Protein BLAST database named /home/jovyan/files/finalpro\n",
      "Keep MBits: T\n",
      "Maximum file size: 1000000000B\n",
      "Adding sequences from FASTA; added 6516 sequences in 0.1796 seconds.\n",
      "\n",
      "\n"
     ]
    }
   ],
   "source": [
    "!makeblastdb -in files/final.fasta -dbtype prot -out files/finalpro"
   ]
  },
  {
   "cell_type": "code",
   "execution_count": null,
   "metadata": {},
   "outputs": [],
   "source": [
    "!blastp -db files/finalpro -query files/final.fasta -outfmt 6 -out files/BLASTe22_out -num_threads 4 -evalue 10e-22"
   ]
  },
  {
   "cell_type": "code",
   "execution_count": null,
   "metadata": {},
   "outputs": [],
   "source": []
  }
 ],
 "metadata": {
  "kernelspec": {
   "display_name": "Python 3",
   "language": "python",
   "name": "python3"
  },
  "language_info": {
   "codemirror_mode": {
    "name": "ipython",
    "version": 3
   },
   "file_extension": ".py",
   "mimetype": "text/x-python",
   "name": "python",
   "nbconvert_exporter": "python",
   "pygments_lexer": "ipython3",
   "version": "3.7.10"
  }
 },
 "nbformat": 4,
 "nbformat_minor": 4
}
