{
 "cells": [
  {
   "cell_type": "markdown",
   "id": "strange-alpha",
   "metadata": {},
   "source": [
    "Welcome to my blast test binder!"
   ]
  },
  {
   "cell_type": "code",
   "execution_count": 1,
   "id": "informational-aspect",
   "metadata": {},
   "outputs": [],
   "source": [
    "fasta_file = open(\"./files/dtxr.tfa\").read()"
   ]
  },
  {
   "cell_type": "code",
   "execution_count": 2,
   "id": "authentic-ghost",
   "metadata": {},
   "outputs": [
    {
     "name": "stdout",
     "output_type": "stream",
     "text": [
      ">CAE49945.1 diphtheria toxin repressor [Corynebacterium diphtheriae]\n",
      "MKDLVDTTEMYLRTIYELEEEGVTPLRARIAERLEQSGPTVSQTVARMERDGLVVVASDRSLQMTPTGRT\n",
      "LATAVMRKHRLAERLLTDIIGLDINKVHDEACRWEHVMSDEVERRLVKVLKDVSRSPFGNPIPGLDELGV\n",
      "GNSDAAVPGTRVIDAATSMPRKVRIVQINEIFQVETDQFTQLLDADIRVGSEVEIVDRDGHITLSHNGKD\n",
      "VELIDDLAHTIRIEEL\n",
      "\n"
     ]
    }
   ],
   "source": [
    "print(fasta_file)"
   ]
  },
  {
   "cell_type": "code",
   "execution_count": 7,
   "id": "intermediate-tunnel",
   "metadata": {},
   "outputs": [],
   "source": [
    "from Bio.Blast.Applications import NcbiblastpCommandline"
   ]
  },
  {
   "cell_type": "code",
   "execution_count": 8,
   "id": "vanilla-fleet",
   "metadata": {},
   "outputs": [
    {
     "name": "stdout",
     "output_type": "stream",
     "text": [
      "Help on class NcbiblastpCommandline in module Bio.Blast.Applications:\n",
      "\n",
      "class NcbiblastpCommandline(_NcbiblastMain2SeqCommandline)\n",
      " |  NcbiblastpCommandline(cmd='blastp', **kwargs)\n",
      " |  \n",
      " |  Create a commandline for the NCBI BLAST+ program blastp (for proteins).\n",
      " |  \n",
      " |  With the release of BLAST+ (BLAST rewritten in C++ instead of C), the NCBI\n",
      " |  replaced the old blastall tool with separate tools for each of the searches.\n",
      " |  This wrapper therefore replaces BlastallCommandline with option -p blastp.\n",
      " |  \n",
      " |  >>> from Bio.Blast.Applications import NcbiblastpCommandline\n",
      " |  >>> cline = NcbiblastpCommandline(query=\"rosemary.pro\", db=\"nr\",\n",
      " |  ...                               evalue=0.001, remote=True, ungapped=True)\n",
      " |  >>> cline\n",
      " |  NcbiblastpCommandline(cmd='blastp', query='rosemary.pro', db='nr', evalue=0.001, remote=True, ungapped=True)\n",
      " |  >>> print(cline)\n",
      " |  blastp -query rosemary.pro -db nr -evalue 0.001 -remote -ungapped\n",
      " |  \n",
      " |  You would typically run the command line with cline() or via the Python\n",
      " |  subprocess module, as described in the Biopython tutorial.\n",
      " |  \n",
      " |  Method resolution order:\n",
      " |      NcbiblastpCommandline\n",
      " |      _NcbiblastMain2SeqCommandline\n",
      " |      _Ncbiblast2SeqCommandline\n",
      " |      _NcbiblastCommandline\n",
      " |      _NcbibaseblastCommandline\n",
      " |      Bio.Application.AbstractCommandline\n",
      " |      builtins.object\n",
      " |  \n",
      " |  Methods defined here:\n",
      " |  \n",
      " |  __init__(self, cmd='blastp', **kwargs)\n",
      " |      Initialize the class.\n",
      " |  \n",
      " |  ----------------------------------------------------------------------\n",
      " |  Methods inherited from Bio.Application.AbstractCommandline:\n",
      " |  \n",
      " |  __call__(self, stdin=None, stdout=True, stderr=True, cwd=None, env=None)\n",
      " |      Execute command, wait for it to finish, return (stdout, stderr).\n",
      " |      \n",
      " |      Runs the command line tool and waits for it to finish. If it returns\n",
      " |      a non-zero error level, an exception is raised. Otherwise two strings\n",
      " |      are returned containing stdout and stderr.\n",
      " |      \n",
      " |      The optional stdin argument should be a string of data which will be\n",
      " |      passed to the tool as standard input.\n",
      " |      \n",
      " |      The optional stdout and stderr argument may be filenames (string),\n",
      " |      but otherwise are treated as a booleans, and control if the output\n",
      " |      should be captured as strings (True, default), or ignored by sending\n",
      " |      it to /dev/null to avoid wasting memory (False). If sent to a file\n",
      " |      or ignored, then empty string(s) are returned.\n",
      " |      \n",
      " |      The optional cwd argument is a string giving the working directory\n",
      " |      to run the command from. See Python's subprocess module documentation\n",
      " |      for more details.\n",
      " |      \n",
      " |      The optional env argument is a dictionary setting the environment\n",
      " |      variables to be used in the new process. By default the current\n",
      " |      process' environment variables are used. See Python's subprocess\n",
      " |      module documentation for more details.\n",
      " |      \n",
      " |      Default example usage::\n",
      " |      \n",
      " |          from Bio.Emboss.Applications import WaterCommandline\n",
      " |          water_cmd = WaterCommandline(gapopen=10, gapextend=0.5,\n",
      " |                                       stdout=True, auto=True,\n",
      " |                                       asequence=\"a.fasta\", bsequence=\"b.fasta\")\n",
      " |          print(\"About to run: %s\" % water_cmd)\n",
      " |          std_output, err_output = water_cmd()\n",
      " |      \n",
      " |      This functionality is similar to subprocess.check_output(). In general\n",
      " |      if you require more control over running the command, use subprocess\n",
      " |      directly.\n",
      " |      \n",
      " |      When the program called returns a non-zero error level, a custom\n",
      " |      ApplicationError exception is raised. This includes any stdout and\n",
      " |      stderr strings captured as attributes of the exception object, since\n",
      " |      they may be useful for diagnosing what went wrong.\n",
      " |  \n",
      " |  __repr__(self)\n",
      " |      Return a representation of the command line object for debugging.\n",
      " |      \n",
      " |      e.g.\n",
      " |      \n",
      " |      >>> from Bio.Emboss.Applications import WaterCommandline\n",
      " |      >>> cline = WaterCommandline(gapopen=10, gapextend=0.5)\n",
      " |      >>> cline.asequence = \"asis:ACCCGGGCGCGGT\"\n",
      " |      >>> cline.bsequence = \"asis:ACCCGAGCGCGGT\"\n",
      " |      >>> cline.outfile = \"temp_water.txt\"\n",
      " |      >>> print(cline)\n",
      " |      water -outfile=temp_water.txt -asequence=asis:ACCCGGGCGCGGT -bsequence=asis:ACCCGAGCGCGGT -gapopen=10 -gapextend=0.5\n",
      " |      >>> cline\n",
      " |      WaterCommandline(cmd='water', outfile='temp_water.txt', asequence='asis:ACCCGGGCGCGGT', bsequence='asis:ACCCGAGCGCGGT', gapopen=10, gapextend=0.5)\n",
      " |  \n",
      " |  __setattr__(self, name, value)\n",
      " |      Set attribute name to value (PRIVATE).\n",
      " |      \n",
      " |      This code implements a workaround for a user interface issue.\n",
      " |      Without this __setattr__ attribute-based assignment of parameters\n",
      " |      will silently accept invalid parameters, leading to known instances\n",
      " |      of the user assuming that parameters for the application are set,\n",
      " |      when they are not.\n",
      " |      \n",
      " |      >>> from Bio.Emboss.Applications import WaterCommandline\n",
      " |      >>> cline = WaterCommandline(gapopen=10, gapextend=0.5, stdout=True)\n",
      " |      >>> cline.asequence = \"a.fasta\"\n",
      " |      >>> cline.bsequence = \"b.fasta\"\n",
      " |      >>> cline.csequence = \"c.fasta\"\n",
      " |      Traceback (most recent call last):\n",
      " |      ...\n",
      " |      ValueError: Option name csequence was not found.\n",
      " |      >>> print(cline)\n",
      " |      water -stdout -asequence=a.fasta -bsequence=b.fasta -gapopen=10 -gapextend=0.5\n",
      " |      \n",
      " |      This workaround uses a whitelist of object attributes, and sets the\n",
      " |      object attribute list as normal, for these.  Other attributes are\n",
      " |      assumed to be parameters, and passed to the self.set_parameter method\n",
      " |      for validation and assignment.\n",
      " |  \n",
      " |  __str__(self)\n",
      " |      Make the commandline string with the currently set options.\n",
      " |      \n",
      " |      e.g.\n",
      " |      \n",
      " |      >>> from Bio.Emboss.Applications import WaterCommandline\n",
      " |      >>> cline = WaterCommandline(gapopen=10, gapextend=0.5)\n",
      " |      >>> cline.asequence = \"asis:ACCCGGGCGCGGT\"\n",
      " |      >>> cline.bsequence = \"asis:ACCCGAGCGCGGT\"\n",
      " |      >>> cline.outfile = \"temp_water.txt\"\n",
      " |      >>> print(cline)\n",
      " |      water -outfile=temp_water.txt -asequence=asis:ACCCGGGCGCGGT -bsequence=asis:ACCCGAGCGCGGT -gapopen=10 -gapextend=0.5\n",
      " |      >>> str(cline)\n",
      " |      'water -outfile=temp_water.txt -asequence=asis:ACCCGGGCGCGGT -bsequence=asis:ACCCGAGCGCGGT -gapopen=10 -gapextend=0.5'\n",
      " |  \n",
      " |  set_parameter(self, name, value=None)\n",
      " |      Set a commandline option for a program (OBSOLETE).\n",
      " |      \n",
      " |      Every parameter is available via a property and as a named\n",
      " |      keyword when creating the instance. Using either of these is\n",
      " |      preferred to this legacy set_parameter method which is now\n",
      " |      OBSOLETE, and likely to be DEPRECATED and later REMOVED in\n",
      " |      future releases.\n",
      " |  \n",
      " |  ----------------------------------------------------------------------\n",
      " |  Data descriptors inherited from Bio.Application.AbstractCommandline:\n",
      " |  \n",
      " |  __dict__\n",
      " |      dictionary for instance variables (if defined)\n",
      " |  \n",
      " |  __weakref__\n",
      " |      list of weak references to the object (if defined)\n",
      " |  \n",
      " |  ----------------------------------------------------------------------\n",
      " |  Data and other attributes inherited from Bio.Application.AbstractCommandline:\n",
      " |  \n",
      " |  parameters = None\n",
      "\n"
     ]
    }
   ],
   "source": [
    "help(NcbiblastpCommandline)"
   ]
  },
  {
   "cell_type": "code",
   "execution_count": 11,
   "id": "selected-duncan",
   "metadata": {},
   "outputs": [],
   "source": [
    "cmd_blastp = NcbiblastpCommandline(query=\"files/dtxr.tfa\", out=\"files/blastout.txt\", outfmt=6, db=\"nr\")"
   ]
  },
  {
   "cell_type": "code",
   "execution_count": 12,
   "id": "governing-analysis",
   "metadata": {},
   "outputs": [
    {
     "name": "stdout",
     "output_type": "stream",
     "text": [
      "blastp -out files/blastout.txt -outfmt 6 -query files/dtxr.tfa -db nr\n"
     ]
    }
   ],
   "source": [
    "print(cmd_blastp)"
   ]
  },
  {
   "cell_type": "code",
   "execution_count": 13,
   "id": "bibliographic-texture",
   "metadata": {},
   "outputs": [
    {
     "ename": "ApplicationError",
     "evalue": "Non-zero return code 2 from 'blastp -out files/blastout.txt -outfmt 6 -query files/dtxr.tfa -db nr', message 'BLAST Database error: No alias or index file found for protein database [nr] in search path [/home/jovyan::]'",
     "output_type": "error",
     "traceback": [
      "\u001b[0;31m---------------------------------------------------------------------------\u001b[0m",
      "\u001b[0;31mApplicationError\u001b[0m                          Traceback (most recent call last)",
      "\u001b[0;32m<ipython-input-13-d65b6c580f8e>\u001b[0m in \u001b[0;36m<module>\u001b[0;34m\u001b[0m\n\u001b[0;32m----> 1\u001b[0;31m \u001b[0mcmd_blastp\u001b[0m\u001b[0;34m(\u001b[0m\u001b[0;34m)\u001b[0m\u001b[0;34m\u001b[0m\u001b[0;34m\u001b[0m\u001b[0m\n\u001b[0m",
      "\u001b[0;32m/srv/conda/envs/notebook/site-packages/Bio/Application/__init__.py\u001b[0m in \u001b[0;36m__call__\u001b[0;34m(self, stdin, stdout, stderr, cwd, env)\u001b[0m\n\u001b[1;32m    567\u001b[0m \u001b[0;34m\u001b[0m\u001b[0m\n\u001b[1;32m    568\u001b[0m         \u001b[0;32mif\u001b[0m \u001b[0mreturn_code\u001b[0m\u001b[0;34m:\u001b[0m\u001b[0;34m\u001b[0m\u001b[0;34m\u001b[0m\u001b[0m\n\u001b[0;32m--> 569\u001b[0;31m             \u001b[0;32mraise\u001b[0m \u001b[0mApplicationError\u001b[0m\u001b[0;34m(\u001b[0m\u001b[0mreturn_code\u001b[0m\u001b[0;34m,\u001b[0m \u001b[0mstr\u001b[0m\u001b[0;34m(\u001b[0m\u001b[0mself\u001b[0m\u001b[0;34m)\u001b[0m\u001b[0;34m,\u001b[0m \u001b[0mstdout_str\u001b[0m\u001b[0;34m,\u001b[0m \u001b[0mstderr_str\u001b[0m\u001b[0;34m)\u001b[0m\u001b[0;34m\u001b[0m\u001b[0;34m\u001b[0m\u001b[0m\n\u001b[0m\u001b[1;32m    570\u001b[0m         \u001b[0;32mreturn\u001b[0m \u001b[0mstdout_str\u001b[0m\u001b[0;34m,\u001b[0m \u001b[0mstderr_str\u001b[0m\u001b[0;34m\u001b[0m\u001b[0;34m\u001b[0m\u001b[0m\n\u001b[1;32m    571\u001b[0m \u001b[0;34m\u001b[0m\u001b[0m\n",
      "\u001b[0;31mApplicationError\u001b[0m: Non-zero return code 2 from 'blastp -out files/blastout.txt -outfmt 6 -query files/dtxr.tfa -db nr', message 'BLAST Database error: No alias or index file found for protein database [nr] in search path [/home/jovyan::]'"
     ]
    }
   ],
   "source": [
    "cmd_blastp()"
   ]
  },
  {
   "cell_type": "code",
   "execution_count": null,
   "id": "indian-feelings",
   "metadata": {},
   "outputs": [],
   "source": []
  }
 ],
 "metadata": {
  "kernelspec": {
   "display_name": "Python 3",
   "language": "python",
   "name": "python3"
  },
  "language_info": {
   "codemirror_mode": {
    "name": "ipython",
    "version": 3
   },
   "file_extension": ".py",
   "mimetype": "text/x-python",
   "name": "python",
   "nbconvert_exporter": "python",
   "pygments_lexer": "ipython3",
   "version": "3.7.10"
  }
 },
 "nbformat": 4,
 "nbformat_minor": 5
}
